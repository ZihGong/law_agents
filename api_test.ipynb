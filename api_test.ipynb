{
 "cells": [
  {
   "metadata": {},
   "cell_type": "markdown",
   "source": [
    "文心4-0329：https://aip.baidubce.com/rpc/2.0/ai_custom/v1/wenxinworkshop/chat/ernie-4.0-8k-0329\n",
    "\n",
    "文心3.5-0329：https://aip.baidubce.com/rpc/2.0/ai_custom/v1/wenxinworkshop/chat/ernie-3.5-8k-0329"
   ],
   "id": "7f0081da7a6785cb"
  },
  {
   "cell_type": "code",
   "id": "initial_id",
   "metadata": {
    "collapsed": true,
    "ExecuteTime": {
     "end_time": "2024-06-19T14:16:04.416685Z",
     "start_time": "2024-06-19T14:15:46.712717Z"
    }
   },
   "source": [
    "import requests\n",
    "import json\n",
    "\n",
    "def get_access_token():\n",
    "    \"\"\"\n",
    "    使用 API Key，Secret Key 获取access_token，替换下列示例中的应用API Key、应用Secret Key\n",
    "    \"\"\"\n",
    "        \n",
    "    url = \"https://aip.baidubce.com/oauth/2.0/token?client_id=yW94TYcnt2YcK5dT1uEs2ipv&client_secret=XLWu0n8jOsb9NIFo4GG91MIsioGVebYr&grant_type=client_credentials\"\n",
    "    \n",
    "    payload = json.dumps(\"\")\n",
    "    headers = {\n",
    "        'Content-Type': 'application/json',\n",
    "        'Accept': 'application/json'\n",
    "    }\n",
    "    \n",
    "    response = requests.request(\"POST\", url, headers=headers, data=payload)\n",
    "    print(response.json().get(\"access_token\"))\n",
    "    return response.json().get(\"access_token\")\n",
    "\n",
    "def main():\n",
    "    url = \"https://aip.baidubce.com/rpc/2.0/ai_custom/v1/wenxinworkshop/chat/ernie-3.5-8k-0329?access_token=\" + get_access_token()\n",
    "\n",
    "    payload = json.dumps({\n",
    "        \"messages\": [\n",
    "            {\n",
    "                \"role\": \"user\",\n",
    "                \"content\": \"商标著作权登记与商标注册的区别是什么？\"\n",
    "            }\n",
    "        ]\n",
    "    })\n",
    "    headers = {\n",
    "        'Content-Type': 'application/json'\n",
    "    }\n",
    "    \n",
    "    response = requests.request(\"POST\", url, headers=headers, data=payload)\n",
    "    \n",
    "    dictionary = json.loads(response.text)\n",
    "    \n",
    "    print(dictionary[\"result\"])\n",
    "    \n",
    "\n",
    "if __name__ == '__main__':\n",
    "    main()"
   ],
   "outputs": [
    {
     "name": "stdout",
     "output_type": "stream",
     "text": [
      "24.8f0f0a305c082497a47bb02478d33ef8.2592000.1721398547.282335-43578498\n",
      "商标著作权登记与商标注册之间存在显著的差异。以下是二者之间的主要区别：\n",
      "\n",
      "1. **保护对象和范围不同**：商标权的对象主要是以文字、图形或其组合构成的注册商标，属于无形资产。而著作权的对象则是作者所创作的文学、艺术和科学作品，这些作品是有形资产，涵盖了如文学作品、音乐作品、美术作品等多种形式。简言之，商标权主要关注商标的注册和使用，而著作权则关注于作品的原创性和创作过程。\n",
      "2. **原始权利产生的途径不同**：商标权的获得必须履行商标注册程序，实行注册在先原则，即只有经过申请注册并获主管机关的审查核准后，才能取得商标专用权。而著作权则通常是在作品创作完成之后，依法自动产生，无需经过任何主管机关的审查批准。\n",
      "3. **申请机构不同**：商标是通过商标局进行申请和注册的，而著作权的登记则通常是通过中国版权登记中心进行。\n",
      "\n",
      "综上所述，商标著作权登记与商标注册在保护对象、权利产生途径以及申请机构等方面均存在明显差异。了解这些差异对于维护个人或企业的知识产权具有重要意义。\n"
     ]
    }
   ],
   "execution_count": 7
  }
 ],
 "metadata": {
  "kernelspec": {
   "display_name": "Python 3",
   "language": "python",
   "name": "python3"
  },
  "language_info": {
   "codemirror_mode": {
    "name": "ipython",
    "version": 2
   },
   "file_extension": ".py",
   "mimetype": "text/x-python",
   "name": "python",
   "nbconvert_exporter": "python",
   "pygments_lexer": "ipython2",
   "version": "2.7.6"
  }
 },
 "nbformat": 4,
 "nbformat_minor": 5
}
